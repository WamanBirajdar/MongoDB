{
 "cells": [
  {
   "cell_type": "code",
   "execution_count": 12,
   "metadata": {},
   "outputs": [],
   "source": [
    "import pymongo"
   ]
  },
  {
   "cell_type": "code",
   "execution_count": 13,
   "metadata": {},
   "outputs": [],
   "source": [
    "# connect to mongo db\n",
    "dbConn=pymongo.MongoClient(\"mongodb://localhost:27017/\")"
   ]
  },
  {
   "cell_type": "code",
   "execution_count": 14,
   "metadata": {},
   "outputs": [],
   "source": [
    "#Given name to Database \n",
    "dbname='ineron'\n"
   ]
  },
  {
   "cell_type": "code",
   "execution_count": 15,
   "metadata": {},
   "outputs": [],
   "source": [
    "db=dbConn[dbname]"
   ]
  },
  {
   "cell_type": "code",
   "execution_count": 16,
   "metadata": {},
   "outputs": [
    {
     "data": {
      "text/plain": [
       "['admin', 'config', 'local']"
      ]
     },
     "execution_count": 16,
     "metadata": {},
     "output_type": "execute_result"
    }
   ],
   "source": [
    "#Showing lists of databases \n",
    "dbConn.list_database_names()"
   ]
  },
  {
   "cell_type": "code",
   "execution_count": 18,
   "metadata": {},
   "outputs": [],
   "source": [
    "#Given name to colletion\n",
    "Collection_name='mongo_demo'"
   ]
  },
  {
   "cell_type": "code",
   "execution_count": 19,
   "metadata": {},
   "outputs": [],
   "source": [
    "# Adding collection to database\n",
    "collection=db[Collection_name]"
   ]
  },
  {
   "cell_type": "code",
   "execution_count": 11,
   "metadata": {},
   "outputs": [],
   "source": [
    "my_row = {'Serial No': '9998',\n",
    " 'GRE Score': '337',\n",
    " 'TOEFL Score': '118',\n",
    " 'University Rating': '4',\n",
    " 'SOP': '4.5',\n",
    " 'LOR': '4.5',\n",
    " 'CGPA': '9.65',\n",
    " 'Research': '1',\n",
    " 'Chance of Admit': '0.92'}"
   ]
  },
  {
   "cell_type": "code",
   "execution_count": 20,
   "metadata": {},
   "outputs": [
    {
     "name": "stdout",
     "output_type": "stream",
     "text": [
      "0:Serial No\n",
      "1:GRE Score\n",
      "2:TOEFL Score\n",
      "3:University Rating\n",
      "4:SOP\n",
      "5:LOR\n",
      "6:CGPA\n",
      "7:Research\n",
      "8:Chance of Admit\n"
     ]
    }
   ],
   "source": [
    "for key,value in enumerate(my_row):\n",
    "    print(f'{key}:{value}')"
   ]
  },
  {
   "cell_type": "code",
   "execution_count": 21,
   "metadata": {},
   "outputs": [],
   "source": [
    "Col=collection.insert_one(my_row)"
   ]
  },
  {
   "cell_type": "code",
   "execution_count": 23,
   "metadata": {},
   "outputs": [
    {
     "data": {
      "text/plain": [
       "ObjectId('642ab71d4bc7896c5fbb207e')"
      ]
     },
     "execution_count": 23,
     "metadata": {},
     "output_type": "execute_result"
    }
   ],
   "source": [
    "Col.inserted_id"
   ]
  },
  {
   "cell_type": "code",
   "execution_count": 31,
   "metadata": {},
   "outputs": [],
   "source": [
    "res=collection.find()"
   ]
  },
  {
   "cell_type": "code",
   "execution_count": 32,
   "metadata": {},
   "outputs": [
    {
     "name": "stdout",
     "output_type": "stream",
     "text": [
      "0:{'_id': ObjectId('642ab71d4bc7896c5fbb207e'), 'Serial No': '9998', 'GRE Score': '337', 'TOEFL Score': '118', 'University Rating': '4', 'SOP': '4.5', 'LOR': '4.5', 'CGPA': '9.65', 'Research': '1', 'Chance of Admit': '0.92'}\n"
     ]
    }
   ],
   "source": [
    "for key,value in enumerate(res):\n",
    "    print(f'{key}:{value}')"
   ]
  },
  {
   "cell_type": "code",
   "execution_count": 33,
   "metadata": {},
   "outputs": [
    {
     "data": {
      "text/plain": [
       "<pymongo.cursor.Cursor at 0x7fe32a666250>"
      ]
     },
     "execution_count": 33,
     "metadata": {},
     "output_type": "execute_result"
    }
   ],
   "source": [
    "res"
   ]
  },
  {
   "cell_type": "code",
   "execution_count": 34,
   "metadata": {},
   "outputs": [],
   "source": [
    "#list of document\n",
    "my_rows=[\n",
    "    {'Serial No': '9998',\n",
    " 'GRE Score': '337',\n",
    " 'TOEFL Score': '118',\n",
    " 'University Rating': '4',\n",
    " 'SOP': '4.5',\n",
    " 'LOR': '4.5',\n",
    " 'CGPA': '9.65',\n",
    " 'Research': '1',\n",
    " 'Chance of Admit': '0.92'},\n",
    "\n",
    " {'Serial No': '1000',\n",
    " 'GRE Score': '310',\n",
    " 'TOEFL Score': '100',\n",
    " 'University Rating': '2',\n",
    " 'SOP': '4.2',\n",
    " 'LOR': '3.5',\n",
    " 'CGPA': '9.00',\n",
    " 'Research': '0',\n",
    " 'Chance of Admit': '0.70'}] "
   ]
  },
  {
   "cell_type": "code",
   "execution_count": 35,
   "metadata": {},
   "outputs": [
    {
     "data": {
      "text/plain": [
       "[{'Serial No': '9998',\n",
       "  'GRE Score': '337',\n",
       "  'TOEFL Score': '118',\n",
       "  'University Rating': '4',\n",
       "  'SOP': '4.5',\n",
       "  'LOR': '4.5',\n",
       "  'CGPA': '9.65',\n",
       "  'Research': '1',\n",
       "  'Chance of Admit': '0.92'},\n",
       " {'Serial No': '1000',\n",
       "  'GRE Score': '310',\n",
       "  'TOEFL Score': '100',\n",
       "  'University Rating': '2',\n",
       "  'SOP': '4.2',\n",
       "  'LOR': '3.5',\n",
       "  'CGPA': '9.00',\n",
       "  'Research': '0',\n",
       "  'Chance of Admit': '0.70'}]"
      ]
     },
     "execution_count": 35,
     "metadata": {},
     "output_type": "execute_result"
    }
   ],
   "source": [
    "my_rows"
   ]
  },
  {
   "cell_type": "code",
   "execution_count": 36,
   "metadata": {},
   "outputs": [],
   "source": [
    "# passing many documents to collection\n",
    "result=collection.insert_many(my_rows)"
   ]
  },
  {
   "cell_type": "code",
   "execution_count": 37,
   "metadata": {},
   "outputs": [],
   "source": [
    "# fetch the records\n",
    "result=collection.find()"
   ]
  },
  {
   "cell_type": "code",
   "execution_count": 38,
   "metadata": {},
   "outputs": [
    {
     "name": "stdout",
     "output_type": "stream",
     "text": [
      "0:{'_id': ObjectId('642ab71d4bc7896c5fbb207e'), 'Serial No': '9998', 'GRE Score': '337', 'TOEFL Score': '118', 'University Rating': '4', 'SOP': '4.5', 'LOR': '4.5', 'CGPA': '9.65', 'Research': '1', 'Chance of Admit': '0.92'}\n",
      "1:{'_id': ObjectId('642abc574bc7896c5fbb207f'), 'Serial No': '9998', 'GRE Score': '337', 'TOEFL Score': '118', 'University Rating': '4', 'SOP': '4.5', 'LOR': '4.5', 'CGPA': '9.65', 'Research': '1', 'Chance of Admit': '0.92'}\n",
      "2:{'_id': ObjectId('642abc574bc7896c5fbb2080'), 'Serial No': '1000', 'GRE Score': '310', 'TOEFL Score': '100', 'University Rating': '2', 'SOP': '4.2', 'LOR': '3.5', 'CGPA': '9.00', 'Research': '0', 'Chance of Admit': '0.70'}\n"
     ]
    }
   ],
   "source": [
    "# looping through records for printing\n",
    "for key,value in enumerate(result):\n",
    "    print(f'{key}:{value}')"
   ]
  },
  {
   "cell_type": "code",
   "execution_count": 44,
   "metadata": {},
   "outputs": [],
   "source": [
    "res=collection.find()"
   ]
  },
  {
   "cell_type": "code",
   "execution_count": 45,
   "metadata": {},
   "outputs": [
    {
     "data": {
      "text/plain": [
       "{'_id': ObjectId('642abc574bc7896c5fbb207f'),\n",
       " 'Serial No': '9998',\n",
       " 'GRE Score': '337',\n",
       " 'TOEFL Score': '118',\n",
       " 'University Rating': '4',\n",
       " 'SOP': '4.5',\n",
       " 'LOR': '4.5',\n",
       " 'CGPA': '9.65',\n",
       " 'Research': '1',\n",
       " 'Chance of Admit': '0.92'}"
      ]
     },
     "execution_count": 45,
     "metadata": {},
     "output_type": "execute_result"
    }
   ],
   "source": [
    "#indexing is possible\n",
    "res[1]"
   ]
  },
  {
   "cell_type": "code",
   "execution_count": 46,
   "metadata": {},
   "outputs": [
    {
     "data": {
      "text/plain": [
       "{'_id': ObjectId('642abc574bc7896c5fbb2080'),\n",
       " 'Serial No': '1000',\n",
       " 'GRE Score': '310',\n",
       " 'TOEFL Score': '100',\n",
       " 'University Rating': '2',\n",
       " 'SOP': '4.2',\n",
       " 'LOR': '3.5',\n",
       " 'CGPA': '9.00',\n",
       " 'Research': '0',\n",
       " 'Chance of Admit': '0.70'}"
      ]
     },
     "execution_count": 46,
     "metadata": {},
     "output_type": "execute_result"
    }
   ],
   "source": [
    "res[2]"
   ]
  },
  {
   "cell_type": "code",
   "execution_count": 47,
   "metadata": {},
   "outputs": [],
   "source": [
    "# showing only limited values\n",
    "result_record=collection.find().limit(2)"
   ]
  },
  {
   "cell_type": "code",
   "execution_count": 48,
   "metadata": {},
   "outputs": [
    {
     "name": "stdout",
     "output_type": "stream",
     "text": [
      "{'_id': ObjectId('642ab71d4bc7896c5fbb207e'), 'Serial No': '9998', 'GRE Score': '337', 'TOEFL Score': '118', 'University Rating': '4', 'SOP': '4.5', 'LOR': '4.5', 'CGPA': '9.65', 'Research': '1', 'Chance of Admit': '0.92'}\n",
      "{'_id': ObjectId('642abc574bc7896c5fbb207f'), 'Serial No': '9998', 'GRE Score': '337', 'TOEFL Score': '118', 'University Rating': '4', 'SOP': '4.5', 'LOR': '4.5', 'CGPA': '9.65', 'Research': '1', 'Chance of Admit': '0.92'}\n"
     ]
    }
   ],
   "source": [
    "for i in result_record:\n",
    "    print(i)"
   ]
  },
  {
   "cell_type": "code",
   "execution_count": 49,
   "metadata": {},
   "outputs": [],
   "source": [
    "my_rows = [\n",
    "{'Serial No': '9997',\n",
    " 'GRE Score': '337',\n",
    " 'TOEFL Score': '118',\n",
    " 'University Rating': '4',\n",
    " 'SOP': '4.5',\n",
    " 'LOR': '4.5',\n",
    " 'CGPA': '9.65',\n",
    " 'Research': '1',\n",
    " 'Chance of Admit': '0.92'},\n",
    "  {\n",
    "    'Serial No': '9996',\n",
    " 'GRE Score': '336',\n",
    " 'TOEFL Score': '118',\n",
    " 'University Rating': '4',\n",
    " 'SOP': '4.5',\n",
    " 'LOR': '4.5',\n",
    " 'CGPA': '9.6',\n",
    " 'Research': '0',\n",
    " 'Chance of Admit': '0.92'},\n",
    "  {\n",
    "    'Serial No': '9995',\n",
    " 'GRE Score': '340',\n",
    " 'TOEFL Score': '118',\n",
    " 'University Rating': '4',\n",
    " 'SOP': '4.5',\n",
    " 'LOR': '4.5',\n",
    " 'CGPA': '9.5',\n",
    " 'Research': '1',\n",
    " 'Chance of Admit': '0.92'},\n",
    "  {\n",
    "    'Serial No': '9994',\n",
    " 'GRE Score': '334',\n",
    " 'TOEFL Score': '119',\n",
    " 'University Rating': '4',\n",
    " 'SOP': '4.5',\n",
    " 'LOR': '4.5',\n",
    " 'CGPA': '9.4',\n",
    " 'Research': '1',\n",
    " 'Chance of Admit': '0.92'},\n",
    "  {\n",
    "    'Serial No': '9993',\n",
    " 'GRE Score': '317',\n",
    " 'TOEFL Score': '118',\n",
    " 'University Rating': '4',\n",
    " 'SOP': '4.5',\n",
    " 'LOR': '4.5',\n",
    " 'CGPA': '9.65',\n",
    " 'Research': '1',\n",
    " 'Chance of Admit': '0.92'}\n",
    "\n",
    "]"
   ]
  },
  {
   "cell_type": "code",
   "execution_count": 53,
   "metadata": {},
   "outputs": [],
   "source": [
    "result=collection.find()"
   ]
  },
  {
   "cell_type": "code",
   "execution_count": 54,
   "metadata": {},
   "outputs": [
    {
     "name": "stdout",
     "output_type": "stream",
     "text": [
      "{'_id': ObjectId('642ab71d4bc7896c5fbb207e'), 'Serial No': '9998', 'GRE Score': '337', 'TOEFL Score': '118', 'University Rating': '4', 'SOP': '4.5', 'LOR': '4.5', 'CGPA': '9.65', 'Research': '1', 'Chance of Admit': '0.92'}\n",
      "{'_id': ObjectId('642abc574bc7896c5fbb207f'), 'Serial No': '9998', 'GRE Score': '337', 'TOEFL Score': '118', 'University Rating': '4', 'SOP': '4.5', 'LOR': '4.5', 'CGPA': '9.65', 'Research': '1', 'Chance of Admit': '0.92'}\n",
      "{'_id': ObjectId('642abc574bc7896c5fbb2080'), 'Serial No': '1000', 'GRE Score': '310', 'TOEFL Score': '100', 'University Rating': '2', 'SOP': '4.2', 'LOR': '3.5', 'CGPA': '9.00', 'Research': '0', 'Chance of Admit': '0.70'}\n",
      "{'_id': ObjectId('642ac0db4bc7896c5fbb2081'), 'Serial No': '9997', 'GRE Score': '337', 'TOEFL Score': '118', 'University Rating': '4', 'SOP': '4.5', 'LOR': '4.5', 'CGPA': '9.65', 'Research': '1', 'Chance of Admit': '0.92'}\n",
      "{'_id': ObjectId('642ac0db4bc7896c5fbb2082'), 'Serial No': '9996', 'GRE Score': '336', 'TOEFL Score': '118', 'University Rating': '4', 'SOP': '4.5', 'LOR': '4.5', 'CGPA': '9.6', 'Research': '0', 'Chance of Admit': '0.92'}\n",
      "{'_id': ObjectId('642ac0db4bc7896c5fbb2083'), 'Serial No': '9995', 'GRE Score': '340', 'TOEFL Score': '118', 'University Rating': '4', 'SOP': '4.5', 'LOR': '4.5', 'CGPA': '9.5', 'Research': '1', 'Chance of Admit': '0.92'}\n",
      "{'_id': ObjectId('642ac0db4bc7896c5fbb2084'), 'Serial No': '9994', 'GRE Score': '334', 'TOEFL Score': '119', 'University Rating': '4', 'SOP': '4.5', 'LOR': '4.5', 'CGPA': '9.4', 'Research': '1', 'Chance of Admit': '0.92'}\n",
      "{'_id': ObjectId('642ac0db4bc7896c5fbb2085'), 'Serial No': '9993', 'GRE Score': '317', 'TOEFL Score': '118', 'University Rating': '4', 'SOP': '4.5', 'LOR': '4.5', 'CGPA': '9.65', 'Research': '1', 'Chance of Admit': '0.92'}\n"
     ]
    }
   ],
   "source": [
    "for i in result:\n",
    "    print(i)"
   ]
  },
  {
   "cell_type": "code",
   "execution_count": null,
   "metadata": {},
   "outputs": [],
   "source": []
  }
 ],
 "metadata": {
  "kernelspec": {
   "display_name": "Python 3.8.10 64-bit",
   "language": "python",
   "name": "python3"
  },
  "language_info": {
   "codemirror_mode": {
    "name": "ipython",
    "version": 3
   },
   "file_extension": ".py",
   "mimetype": "text/x-python",
   "name": "python",
   "nbconvert_exporter": "python",
   "pygments_lexer": "ipython3",
   "version": "3.8.10"
  },
  "orig_nbformat": 4,
  "vscode": {
   "interpreter": {
    "hash": "e7370f93d1d0cde622a1f8e1c04877d8463912d04d973331ad4851f04de6915a"
   }
  }
 },
 "nbformat": 4,
 "nbformat_minor": 2
}
